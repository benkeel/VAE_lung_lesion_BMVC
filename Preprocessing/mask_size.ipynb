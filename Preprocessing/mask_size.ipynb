{
 "cells": [
  {
   "cell_type": "markdown",
   "id": "9a697aa6",
   "metadata": {},
   "source": [
    "#  This file finds the region of interest (ROI) size for the lesions \n",
    "## It is organised as follows\n",
    " * fit convex hull to each segmentation mask\n",
    " * fit smallest bounding box around convex hulls\n",
    " * caluclate maximum size of bounding box in dataset \n",
    " * find how many are above 64x64\n"
   ]
  },
  {
   "cell_type": "code",
   "execution_count": 2,
   "id": "73b8750f",
   "metadata": {},
   "outputs": [],
   "source": [
    "import argparse\n",
    "import os\n",
    "import numpy as np\n",
    "\n",
    "from medpy.filter.smoothing import anisotropic_diffusion\n",
    "from scipy.ndimage import median_filter\n",
    "from skimage import measure, morphology\n",
    "import scipy.ndimage as ndimage\n",
    "from sklearn.cluster import KMeans\n",
    "\n",
    "import sys\n",
    "import os\n",
    "from pathlib import Path\n",
    "import glob\n",
    "from configparser import ConfigParser\n",
    "import pandas as pd\n",
    "import warnings\n",
    "import pylidc as pl\n",
    "from tqdm import tqdm\n",
    "from statistics import median_high\n",
    "\n",
    "#from utils import is_dir_path,segment_lung\n",
    "from pylidc.utils import consensus\n",
    "from PIL import Image\n",
    "\n",
    "\n",
    "from scipy import ndimage as ndi\n",
    "from scipy.ndimage import label, generate_binary_structure\n",
    "from sklearn.metrics.pairwise import euclidean_distances\n",
    "\n",
    "# Visualisations\n",
    "import matplotlib.pyplot as plt\n",
    "import seaborn as sns\n",
    "\n",
    "# Maths\n",
    "import math\n",
    "from scipy.spatial import ConvexHull\n",
    "from math import sqrt\n",
    "import numpy as np\n",
    "from math import atan2, cos, sin, pi\n",
    "from collections import namedtuple"
   ]
  },
  {
   "cell_type": "code",
   "execution_count": 3,
   "id": "28905342",
   "metadata": {},
   "outputs": [],
   "source": [
    "IMAGE_DIR = r\"C:\\Users\\mm17b2k\\Documents\\ARCANE\\Python\\MSc\\Data_full\\Images\"\n",
    "MASK_DIR =  r\"C:\\Users\\mm17b2k\\Documents\\ARCANE\\Python\\MSc\\Data_full\\Mask\"\n",
    "CLEAN_DIR_IMG = r\"C:\\Users\\mm17b2k\\Documents\\ARCANE\\Python\\MSc\\Data_full\\Clean\\Images\"\n",
    "CLEAN_DIR_MASK = r\"C:\\Users\\mm17b2k\\Documents\\ARCANE\\Python\\MSc\\Data_full\\Clean\\Mask\""
   ]
  },
  {
   "cell_type": "code",
   "execution_count": 4,
   "id": "8f439106",
   "metadata": {},
   "outputs": [],
   "source": [
    "#important functions: MinimumBoundingBox\n",
    "\n",
    "def unit_vector(pt0, pt1):\n",
    "    ''' returns an unit vector that points in the direction of pt0 to pt1 '''\n",
    "    dis_0_to_1 = sqrt((pt0[0] - pt1[0])**2 + (pt0[1] - pt1[1])**2)\n",
    "    return (pt1[0] - pt0[0]) / dis_0_to_1, \\\n",
    "           (pt1[1] - pt0[1]) / dis_0_to_1\n",
    "\n",
    "\n",
    "def orthogonal_vector(vector):\n",
    "    ''' from vector returns a orthogonal/perpendicular vector of equal length '''\n",
    "    return -1 * vector[1], vector[0]\n",
    "\n",
    "\n",
    "def bounding_area(index, hull):\n",
    "    '''calculate statistics from bounding box'''\n",
    "    unit_vector_p = unit_vector(hull[index], hull[index+1])\n",
    "    unit_vector_o = orthogonal_vector(unit_vector_p)\n",
    "\n",
    "    dis_p = tuple(np.dot(unit_vector_p, pt) for pt in hull)\n",
    "    dis_o = tuple(np.dot(unit_vector_o, pt) for pt in hull)\n",
    "\n",
    "    min_p = min(dis_p)\n",
    "    min_o = min(dis_o)\n",
    "    len_p = max(dis_p) - min_p\n",
    "    len_o = max(dis_o) - min_o\n",
    "\n",
    "    return {'area': len_p * len_o,\n",
    "            'length_parallel': len_p,\n",
    "            'length_orthogonal': len_o,\n",
    "            'rectangle_center': (min_p + len_p / 2, min_o + len_o / 2),\n",
    "            'unit_vector': unit_vector_p,\n",
    "            }\n",
    "\n",
    "\n",
    "def to_xy_coordinates(unit_vector_angle, point):\n",
    "    '''returns converted unit vector coordinates in x, y coordinates'''\n",
    "    angle_orthogonal = unit_vector_angle + pi / 2\n",
    "    return point[0] * cos(unit_vector_angle) + point[1] * cos(angle_orthogonal), \\\n",
    "           point[0] * sin(unit_vector_angle) + point[1] * sin(angle_orthogonal)\n",
    "\n",
    "\n",
    "def rotate_points(center_of_rotation, angle, points):\n",
    "    ''' \n",
    "    This requires:\n",
    "    - center_of_rotation to be a 2d vector. e.g.: (1.56, -23.4)\n",
    "    - angle to be in radians\n",
    "    - points to be a list or tuple of points. ex: ((1.56, -23.4), (1.56, -23.4))\n",
    "    \n",
    "    This function returns: \n",
    "    a point cloud rotated around the center_of_rotation point by an angle\n",
    "    '''\n",
    "    rot_points = []\n",
    "    ang = []\n",
    "    for pt in points:\n",
    "        diff = tuple([pt[d] - center_of_rotation[d] for d in range(2)])\n",
    "        diff_angle = atan2(diff[1], diff[0]) + angle\n",
    "        ang.append(diff_angle)\n",
    "        diff_length = sqrt(sum([d**2 for d in diff]))\n",
    "        rot_points.append((center_of_rotation[0] + diff_length * cos(diff_angle),\n",
    "                           center_of_rotation[1] + diff_length * sin(diff_angle)))\n",
    "\n",
    "    return rot_points\n",
    "\n",
    "\n",
    "def rectangle_corners(rectangle):\n",
    "    '''\n",
    "    Input: the output of mon_bounding_rectangle\n",
    "    Reurns:the corner locations of the bounding rectangle\n",
    "    '''\n",
    "    corner_points = []\n",
    "    for i1 in (.5, -.5):\n",
    "        for i2 in (i1, -1 * i1):\n",
    "            corner_points.append((rectangle['rectangle_center'][0] + i1 * rectangle['length_parallel'],\n",
    "                            rectangle['rectangle_center'][1] + i2 * rectangle['length_orthogonal']))\n",
    "\n",
    "    return rotate_points(rectangle['rectangle_center'], rectangle['unit_vector_angle'], corner_points)\n",
    "\n",
    "\n",
    "BoundingBox = namedtuple('BoundingBox', ('area',\n",
    "                                         'length_parallel',\n",
    "                                         'length_orthogonal',\n",
    "                                         'rectangle_center',\n",
    "                                         'unit_vector',\n",
    "                                         'unit_vector_angle',\n",
    "                                         'corner_points'\n",
    "                                        )\n",
    ")\n",
    "\n",
    "\n",
    "# use this function to find the listed properties of the minimum bounding box of a point cloud\n",
    "def MinimumBoundingBox(points):\n",
    "    '''\n",
    "    Requires: points to be a list or tuple of 2D points. e.g.: ((5, 2), (3, 4), (6, 8)), needs to be more than 2 points\n",
    "    \n",
    "    Returns a tuple that contains:\n",
    "     - area: area of the rectangle\n",
    "     - length_parallel: length of the side that is parallel to unit_vector\n",
    "     - length_orthogonal: length of the side that is orthogonal to unit_vector\n",
    "     - rectangle_center: coordinates of the rectangle center\n",
    "       (use rectangle_corners to get the corner points of the rectangle)\n",
    "     - unit_vector: direction of the length_parallel side. RADIANS\n",
    "       (it's orthogonal vector can be found with the orthogonal_vector function\n",
    "     - unit_vector_angle: angle of the unit vector\n",
    "     - corner_points: set that contains the corners of the rectangle\n",
    "    '''\n",
    "    if len(points) <= 2: raise ValueError('More than two points required.')\n",
    "\n",
    "    hull_ordered = [points[index] for index in ConvexHull(points).vertices]\n",
    "    hull_ordered.append(hull_ordered[0])\n",
    "    hull_ordered = tuple(hull_ordered)\n",
    "\n",
    "    min_rectangle = bounding_area(0, hull_ordered)\n",
    "    for i in range(1, len(hull_ordered)-1):\n",
    "        rectangle = bounding_area(i, hull_ordered)\n",
    "        if rectangle['area'] < min_rectangle['area']:\n",
    "            min_rectangle = rectangle\n",
    "\n",
    "    min_rectangle['unit_vector_angle'] = atan2(min_rectangle['unit_vector'][1], min_rectangle['unit_vector'][0])\n",
    "    min_rectangle['rectangle_center'] = to_xy_coordinates(min_rectangle['unit_vector_angle'], min_rectangle['rectangle_center'])\n",
    "\n",
    "    return BoundingBox(\n",
    "        area = min_rectangle['area'],\n",
    "        length_parallel = min_rectangle['length_parallel'],\n",
    "        length_orthogonal = min_rectangle['length_orthogonal'],\n",
    "        rectangle_center = min_rectangle['rectangle_center'],\n",
    "        unit_vector = min_rectangle['unit_vector'],\n",
    "        unit_vector_angle = min_rectangle['unit_vector_angle'],\n",
    "        corner_points = set(rectangle_corners(min_rectangle))\n",
    "    )\n",
    "\n",
    "def is_dir_path(string):\n",
    "    if os.path.isdir(string):\n",
    "        return string\n",
    "    else:\n",
    "        raise NotADirectoryError(string)"
   ]
  },
  {
   "cell_type": "code",
   "execution_count": 5,
   "id": "3d1fadaa",
   "metadata": {},
   "outputs": [],
   "source": [
    "def find_bbox_len(mask_img_slice):\n",
    "    '''find the size of the bounding box by x and y length'''\n",
    "   # mask_img_slice = img_slice.replace('NI','MA')\n",
    "\n",
    "    mask_img = np.load(MASK_DIR+mask_img_slice)\n",
    "    mask_index_matrix = np.where(mask_img == True)\n",
    "    coords = []\n",
    "    for i in range(len(mask_index_matrix[0])):\n",
    "        # add all coords of mask to list [x,y]\n",
    "        coords.append([mask_index_matrix[0][i],mask_index_matrix[1][i]])\n",
    "        \n",
    "        \n",
    "    bbox = np.array([[x,y] for x,y in list(MinimumBoundingBox(coords)[6])])\n",
    "    \n",
    "    # find straight orientated bounding box coordinates\n",
    "    x_min = min(point[0] for point in bbox)\n",
    "    x_max = max(point[0] for point in bbox)\n",
    "    y_min = min(point[1] for point in bbox)\n",
    "    y_max = max(point[1] for point in bbox)\n",
    "    \n",
    "    x_len = x_max - x_min\n",
    "    \n",
    "    y_len = y_max - y_min\n",
    "    \n",
    "    return x_len, y_len"
   ]
  },
  {
   "cell_type": "code",
   "execution_count": 6,
   "id": "77ffeadd",
   "metadata": {},
   "outputs": [
    {
     "name": "stdout",
     "output_type": "stream",
     "text": [
      "13916\n",
      "['/LIDC-IDRI-0001/0001_MA000_slice000.npy', '/LIDC-IDRI-0001/0001_MA000_slice001.npy', '/LIDC-IDRI-0001/0001_MA000_slice002.npy', '/LIDC-IDRI-0001/0001_MA000_slice003.npy', '/LIDC-IDRI-0001/0001_MA000_slice004.npy']\n"
     ]
    }
   ],
   "source": [
    "DICOM_DIR = r\"C:\\Users\\mm17b2k\\Documents\\ARCANE\\Python\\MSc\\Data_full\\Mask\"\n",
    "LIDC_IDRI_list= [f for f in os.listdir(DICOM_DIR) if not f.startswith('.')]\n",
    "LIDC_IDRI_list.sort()\n",
    "if 'LICENSE' in LIDC_IDRI_list:\n",
    "    LIDC_IDRI_list.remove('LICENSE')\n",
    "\n",
    "all_files_list = []\n",
    "for i in range(len(LIDC_IDRI_list)):\n",
    "    patient_slice_list = sorted([f for f in os.listdir(DICOM_DIR + '/' + LIDC_IDRI_list[i]) if not f.startswith('.')])\n",
    "    for j in range(len(patient_slice_list)):\n",
    "        all_files_list.append('/LIDC-IDRI-'+ patient_slice_list[j][0:4] + '/' + patient_slice_list[j])\n",
    "        \n",
    "print(len(all_files_list))\n",
    "print(all_files_list[0:5])"
   ]
  },
  {
   "cell_type": "code",
   "execution_count": 7,
   "id": "34d9cf21",
   "metadata": {},
   "outputs": [
    {
     "data": {
      "text/plain": [
       "'/LIDC-IDRI-1012/1012_MA000_slice002.npy'"
      ]
     },
     "execution_count": 7,
     "metadata": {},
     "output_type": "execute_result"
    }
   ],
   "source": [
    "all_files_list[-1]"
   ]
  },
  {
   "cell_type": "code",
   "execution_count": 8,
   "id": "9ee79026",
   "metadata": {},
   "outputs": [],
   "source": [
    "all_files_list.remove(all_files_list[9846])"
   ]
  },
  {
   "cell_type": "code",
   "execution_count": 9,
   "id": "8d0f4fae",
   "metadata": {},
   "outputs": [
    {
     "name": "stdout",
     "output_type": "stream",
     "text": [
      "71.52702702702703 71.95081967213122\n"
     ]
    }
   ],
   "source": [
    "def find_max_bbox(file_list):\n",
    "    x_list, y_list, i_list = [], [], []\n",
    "    for i, file in enumerate(file_list):\n",
    "        x, y = find_bbox_len(file)\n",
    "        x_list.append(x)\n",
    "        y_list.append(y)\n",
    "        i_list.append(i)\n",
    "\n",
    "    print(max(x_list), max(y_list))\n",
    "    return math.ceil(max(x_list)), math.ceil(max(y_list)), x_list, y_list, i_list\n",
    "\n",
    "max_bbox = find_max_bbox(all_files_list)"
   ]
  },
  {
   "cell_type": "code",
   "execution_count": 10,
   "id": "d867614e",
   "metadata": {},
   "outputs": [
    {
     "data": {
      "text/plain": [
       "(72, 72)"
      ]
     },
     "execution_count": 10,
     "metadata": {},
     "output_type": "execute_result"
    }
   ],
   "source": [
    "max_bbox[0:2]"
   ]
  },
  {
   "cell_type": "code",
   "execution_count": 11,
   "id": "799ac6f6",
   "metadata": {},
   "outputs": [
    {
     "name": "stdout",
     "output_type": "stream",
     "text": [
      "x 4035 67.00000000000011\n",
      "x 4037 67.0\n",
      "x 5401 67.97160883280759\n",
      "x 5402 71.52702702702703\n",
      "x 7293 69.0\n",
      "x 7322 64.60000000000002\n",
      "x 7323 64.15094339622647\n",
      "x 8715 64.19999999999993\n",
      "x 8716 64.42021924482333\n",
      "x 8717 68.1817034700315\n",
      "x 8718 64.26875369167158\n",
      "y 4038 65.30254184748924\n",
      "y 5401 67.75394321766565\n",
      "y 5402 70.68918918918921\n",
      "y 5403 65.19999999999997\n",
      "y 7293 69.0\n",
      "y 9377 67.48047722342739\n",
      "y 9378 67.97093791281372\n",
      "y 9379 65.90449438202239\n",
      "y 9380 69.93013698630136\n",
      "y 9381 71.95081967213122\n",
      "y 9382 70.66153846153844\n",
      "y 9383 65.48648648648646\n",
      "y 9384 66.89344262295083\n"
     ]
    }
   ],
   "source": [
    "bigger = []\n",
    "x_list, y_list = max_bbox[2:4]\n",
    "for i, x in enumerate(x_list):\n",
    "    if x > 64:\n",
    "        print('x',i, x)\n",
    "        bigger.append([i,x])\n",
    "        \n",
    "for i, y in enumerate(y_list):\n",
    "    if y > 64:\n",
    "        print('y',i, y)   \n",
    "        bigger.append([i,y])\n"
   ]
  },
  {
   "cell_type": "code",
   "execution_count": 12,
   "id": "8f7d7aa9",
   "metadata": {},
   "outputs": [
    {
     "name": "stdout",
     "output_type": "stream",
     "text": [
      "24\n"
     ]
    },
    {
     "data": {
      "text/plain": [
       "['/LIDC-IDRI-0337/0337_MA001_slice006.npy',\n",
       " '/LIDC-IDRI-0337/0337_MA001_slice008.npy',\n",
       " '/LIDC-IDRI-0436/0436_MA000_slice006.npy',\n",
       " '/LIDC-IDRI-0436/0436_MA000_slice007.npy',\n",
       " '/LIDC-IDRI-0575/0575_MA000_slice000.npy',\n",
       " '/LIDC-IDRI-0576/0576_MA000_slice019.npy',\n",
       " '/LIDC-IDRI-0576/0576_MA000_slice020.npy',\n",
       " '/LIDC-IDRI-0661/0661_MA004_slice015.npy',\n",
       " '/LIDC-IDRI-0661/0661_MA004_slice016.npy',\n",
       " '/LIDC-IDRI-0661/0661_MA004_slice017.npy',\n",
       " '/LIDC-IDRI-0661/0661_MA004_slice018.npy',\n",
       " '/LIDC-IDRI-0337/0337_MA001_slice009.npy',\n",
       " '/LIDC-IDRI-0436/0436_MA000_slice006.npy',\n",
       " '/LIDC-IDRI-0436/0436_MA000_slice007.npy',\n",
       " '/LIDC-IDRI-0436/0436_MA000_slice008.npy',\n",
       " '/LIDC-IDRI-0575/0575_MA000_slice000.npy',\n",
       " '/LIDC-IDRI-0703/0703_MA001_slice012.npy',\n",
       " '/LIDC-IDRI-0703/0703_MA001_slice013.npy',\n",
       " '/LIDC-IDRI-0703/0703_MA001_slice014.npy',\n",
       " '/LIDC-IDRI-0703/0703_MA001_slice015.npy',\n",
       " '/LIDC-IDRI-0703/0703_MA001_slice016.npy',\n",
       " '/LIDC-IDRI-0703/0703_MA001_slice017.npy',\n",
       " '/LIDC-IDRI-0703/0703_MA001_slice018.npy',\n",
       " '/LIDC-IDRI-0703/0703_MA001_slice019.npy']"
      ]
     },
     "execution_count": 12,
     "metadata": {},
     "output_type": "execute_result"
    }
   ],
   "source": [
    "print(len(bigger))\n",
    "i_list = max_bbox[4]\n",
    "list2 = []\n",
    "i_list2 = []\n",
    "for a in bigger:\n",
    "    list2.append(all_files_list[i_list[a[0]]])\n",
    "    i_list2.append(a[0])\n",
    "list2"
   ]
  },
  {
   "cell_type": "code",
   "execution_count": 13,
   "id": "f9c46e85",
   "metadata": {},
   "outputs": [
    {
     "data": {
      "text/plain": [
       "['0337_MA001_slice006.npy',\n",
       " '0337_MA001_slice008.npy',\n",
       " '0436_MA000_slice006.npy',\n",
       " '0436_MA000_slice007.npy',\n",
       " '0575_MA000_slice000.npy',\n",
       " '0576_MA000_slice019.npy',\n",
       " '0576_MA000_slice020.npy',\n",
       " '0661_MA004_slice015.npy',\n",
       " '0661_MA004_slice016.npy',\n",
       " '0661_MA004_slice017.npy',\n",
       " '0661_MA004_slice018.npy',\n",
       " '0337_MA001_slice009.npy',\n",
       " '0436_MA000_slice006.npy',\n",
       " '0436_MA000_slice007.npy',\n",
       " '0436_MA000_slice008.npy',\n",
       " '0575_MA000_slice000.npy',\n",
       " '0703_MA001_slice012.npy',\n",
       " '0703_MA001_slice013.npy',\n",
       " '0703_MA001_slice014.npy',\n",
       " '0703_MA001_slice015.npy',\n",
       " '0703_MA001_slice016.npy',\n",
       " '0703_MA001_slice017.npy',\n",
       " '0703_MA001_slice018.npy',\n",
       " '0703_MA001_slice019.npy']"
      ]
     },
     "execution_count": 13,
     "metadata": {},
     "output_type": "execute_result"
    }
   ],
   "source": [
    "files = []\n",
    "for a in bigger:\n",
    "    files.append(all_files_list[a[0]][16:])\n",
    "files"
   ]
  },
  {
   "cell_type": "code",
   "execution_count": 14,
   "id": "9cbb2347",
   "metadata": {},
   "outputs": [
    {
     "name": "stdout",
     "output_type": "stream",
     "text": [
      "['0337_NI001_slice006.npy', '0337_NI001_slice008.npy', '0337_NI001_slice009.npy', '0436_NI000_slice006.npy', '0436_NI000_slice007.npy', '0436_NI000_slice008.npy', '0487_NI000_slice002.npy', '0487_NI000_slice003.npy', '0487_NI000_slice004.npy', '0487_NI000_slice005.npy', '0487_NI000_slice006.npy', '0487_NI000_slice007.npy', '0487_NI000_slice008.npy', '0487_NI000_slice009.npy', '0487_NI000_slice010.npy', '0487_NI000_slice011.npy', '0487_NI000_slice012.npy', '0487_NI000_slice013.npy', '0487_NI000_slice014.npy', '0575_NI000_slice000.npy', '0576_NI000_slice019.npy', '0576_NI000_slice020.npy', '0661_NI004_slice015.npy', '0661_NI004_slice016.npy', '0661_NI004_slice017.npy', '0661_NI004_slice018.npy', '0703_NI001_slice012.npy', '0703_NI001_slice013.npy', '0703_NI001_slice014.npy', '0703_NI001_slice015.npy', '0703_NI001_slice016.npy', '0703_NI001_slice017.npy', '0703_NI001_slice018.npy', '0703_NI001_slice019.npy', '0951_NI000_slice001.npy', '0951_NI000_slice002.npy', '0951_NI000_slice003.npy', '0951_NI000_slice004.npy', '0951_NI000_slice016.npy', '0951_NI002_slice000.npy']\n"
     ]
    }
   ],
   "source": [
    "file_list = [4035, 4037, 4038, 5401, 5402, 5403, 6200, 6201, 6202, 6203, 6204, 6205, 6206, 6207, 6208, 6209, 6210, 6211, 6212, 7293, 7322, 7323, 8715, 8716, 8717, 8718, 9377, 9378, 9379, 9380, 9381, 9382, 9383, 9384, 13040, 13041, 13042, 13043, 13055, 13056]\n",
    "files = []\n",
    "for a in file_list:\n",
    "    b = all_files_list[a][16:]\n",
    "    b = b.replace('MA', 'NI')\n",
    "    files.append(b)\n",
    "print(files)"
   ]
  },
  {
   "cell_type": "code",
   "execution_count": 1,
   "id": "b615d8e3",
   "metadata": {},
   "outputs": [
    {
     "data": {
      "text/plain": [
       "40"
      ]
     },
     "execution_count": 1,
     "metadata": {},
     "output_type": "execute_result"
    }
   ],
   "source": [
    "file_list = [4035, 4037, 4038, 5401, 5402, 5403, 6200, 6201, 6202, 6203, 6204, 6205, 6206, 6207, 6208, 6209, 6210, 6211, 6212, 7293, 7322, 7323, 8715, 8716, 8717, 8718, 9377, 9378, 9379, 9380, 9381, 9382, 9383, 9384, 13040, 13041, 13042, 13043, 13055, 13056]\n",
    "len(file_list)"
   ]
  },
  {
   "cell_type": "code",
   "execution_count": null,
   "id": "3498e17d",
   "metadata": {},
   "outputs": [],
   "source": []
  }
 ],
 "metadata": {
  "kernelspec": {
   "display_name": "Python 3 (ipykernel)",
   "language": "python",
   "name": "python3"
  },
  "language_info": {
   "codemirror_mode": {
    "name": "ipython",
    "version": 3
   },
   "file_extension": ".py",
   "mimetype": "text/x-python",
   "name": "python",
   "nbconvert_exporter": "python",
   "pygments_lexer": "ipython3",
   "version": "3.7.13"
  }
 },
 "nbformat": 4,
 "nbformat_minor": 5
}
